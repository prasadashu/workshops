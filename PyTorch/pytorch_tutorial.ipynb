{
  "nbformat": 4,
  "nbformat_minor": 0,
  "metadata": {
    "colab": {
      "name": "pytorch_tutorial.ipynb",
      "provenance": [],
      "collapsed_sections": []
    },
    "kernelspec": {
      "display_name": "Python 3",
      "language": "python",
      "name": "python3"
    },
    "language_info": {
      "codemirror_mode": {
        "name": "ipython",
        "version": 3
      },
      "file_extension": ".py",
      "mimetype": "text/x-python",
      "name": "python",
      "nbconvert_exporter": "python",
      "pygments_lexer": "ipython3",
      "version": "3.6.5"
    },
    "accelerator": "GPU"
  },
  "cells": [
    {
      "cell_type": "markdown",
      "metadata": {
        "colab_type": "text",
        "id": "SVQCJjgzcQGg"
      },
      "source": [
        "\n",
        "[![Open In Colab](https://colab.research.google.com/assets/colab-badge.svg)](https://colab.research.google.com/github/sachin-rastogi/workshops/blob/master/PyTorch/pytorch_tutorial.ipynb)"
      ]
    },
    {
      "cell_type": "code",
      "metadata": {
        "colab_type": "code",
        "id": "bcRaEieiTHV2",
        "colab": {}
      },
      "source": [
        "__author__=\"Sachin Rastogi\""
      ],
      "execution_count": null,
      "outputs": []
    },
    {
      "cell_type": "markdown",
      "metadata": {
        "colab_type": "text",
        "id": "wj5vqopv-_wh"
      },
      "source": [
        "Import Libraries"
      ]
    },
    {
      "cell_type": "code",
      "metadata": {
        "ExecuteTime": {
          "end_time": "2020-04-05T15:53:07.682697Z",
          "start_time": "2020-04-05T15:53:03.240102Z"
        },
        "colab_type": "code",
        "id": "wmCveD_S-_wi",
        "colab": {}
      },
      "source": [
        "import torch\n",
        "import numpy as np\n",
        "from IPython.display import display, Math, Latex"
      ],
      "execution_count": null,
      "outputs": []
    },
    {
      "cell_type": "code",
      "metadata": {
        "id": "jd1q5spLxBTo",
        "colab_type": "code",
        "colab": {
          "base_uri": "https://localhost:8080/",
          "height": 34
        },
        "outputId": "2916b745-2b85-45da-f097-9c420154d6d2"
      },
      "source": [
        "torch.__version__"
      ],
      "execution_count": null,
      "outputs": [
        {
          "output_type": "execute_result",
          "data": {
            "application/vnd.google.colaboratory.intrinsic+json": {
              "type": "string"
            },
            "text/plain": [
              "'1.6.0+cu101'"
            ]
          },
          "metadata": {
            "tags": []
          },
          "execution_count": 4
        }
      ]
    },
    {
      "cell_type": "code",
      "metadata": {
        "id": "xADnRtVryO3m",
        "colab_type": "code",
        "colab": {
          "base_uri": "https://localhost:8080/",
          "height": 190
        },
        "outputId": "425f4a65-0e2d-4623-efda-a84b8e7e71ad"
      },
      "source": [
        "# Create a tensor based on an existing tensor. These methods will reuse properties of the input tensor,\n",
        "# e.g. dtype, unless new values are provided by user\n",
        "\n",
        "x = torch.ones(5, 3, dtype=torch.double)      # Changing an existing tensor, new_* methods take in sizes\n",
        "print(x)\n",
        "\n",
        "y = torch.randn_like(x, dtype=torch.float)    # override dtype!\n",
        "print(y)"
      ],
      "execution_count": null,
      "outputs": [
        {
          "output_type": "stream",
          "text": [
            "tensor([[1., 1., 1.],\n",
            "        [1., 1., 1.],\n",
            "        [1., 1., 1.],\n",
            "        [1., 1., 1.],\n",
            "        [1., 1., 1.]], dtype=torch.float64)\n",
            "tensor([[-0.6264, -0.7392, -1.5767],\n",
            "        [-1.8425,  0.3698,  0.4737],\n",
            "        [-1.0417, -0.4686,  0.3047],\n",
            "        [-0.6594,  1.7173, -1.0871],\n",
            "        [-0.2720,  1.5802,  0.2829]])\n"
          ],
          "name": "stdout"
        }
      ]
    },
    {
      "cell_type": "code",
      "metadata": {
        "id": "a1V3Ff77xUID",
        "colab_type": "code",
        "colab": {
          "base_uri": "https://localhost:8080/",
          "height": 224
        },
        "outputId": "a8d86e51-430b-4564-d252-6e2b22f4a3d8"
      },
      "source": [
        "if torch.cuda.is_available():\n",
        "    device = torch.device(\"cuda\")          # a CUDA device object\n",
        "    y = torch.ones_like(x, device=device)  # directly create a tensor on GPU\n",
        "    x = x.to(device)                       # or just use strings ``.to(\"cuda\")``\n",
        "    z = x + y\n",
        "    print(z)\n",
        "    print(\"\\n\")\n",
        "    print(z.to(\"cpu\", torch.double))       # ``.to`` can also change dtype together!"
      ],
      "execution_count": null,
      "outputs": [
        {
          "output_type": "stream",
          "text": [
            "tensor([[2., 2., 2.],\n",
            "        [2., 2., 2.],\n",
            "        [2., 2., 2.],\n",
            "        [2., 2., 2.],\n",
            "        [2., 2., 2.]], device='cuda:0', dtype=torch.float64)\n",
            "\n",
            "\n",
            "tensor([[2., 2., 2.],\n",
            "        [2., 2., 2.],\n",
            "        [2., 2., 2.],\n",
            "        [2., 2., 2.],\n",
            "        [2., 2., 2.]], dtype=torch.float64)\n"
          ],
          "name": "stdout"
        }
      ]
    },
    {
      "cell_type": "markdown",
      "metadata": {
        "id": "SunMGTYj08mm",
        "colab_type": "text"
      },
      "source": [
        "In case you do not see above output as follows  \n",
        "```\n",
        "tensor([[2., 2., 2.],\n",
        "        [2., 2., 2.],\n",
        "        [2., 2., 2.],\n",
        "        [2., 2., 2.],\n",
        "        [2., 2., 2.]], device='cuda:0', dtype=torch.float64)\n",
        "\n",
        "\n",
        "tensor([[2., 2., 2.],\n",
        "        [2., 2., 2.],\n",
        "        [2., 2., 2.],\n",
        "        [2., 2., 2.],\n",
        "        [2., 2., 2.]], dtype=torch.float64)\n",
        "\n",
        "```\n",
        "Goto Runtime -> change runtime type -> choose Hardware accelerator\n",
        "as GPU  \n",
        "\n",
        "And Re-run all above commands.\n",
        "\n",
        "\n",
        "\n"
      ]
    },
    {
      "cell_type": "code",
      "metadata": {
        "id": "wdtwVLLTxy4H",
        "colab_type": "code",
        "colab": {}
      },
      "source": [
        ""
      ],
      "execution_count": null,
      "outputs": []
    }
  ]
}